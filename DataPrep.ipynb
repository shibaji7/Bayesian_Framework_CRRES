{
 "cells": [
  {
   "cell_type": "markdown",
   "metadata": {},
   "source": [
    "># A framework to estimate Chorus waves (Chorus wave global maps) in from low-Earth-orbit, Van Allen Probe and other datasets.\n",
    "\n",
    ">- September, 2021. S. Chakraborty(<shibaji7@vt.edu>), G. S. Cunninghum"
   ]
  },
  {
   "cell_type": "code",
   "execution_count": 1,
   "metadata": {},
   "outputs": [],
   "source": [
    "import os\n",
    "import sys\n",
    "sys.path.append(\"src/\")\n",
    "import get_data as gd\n",
    "from plotlib import RangeTimePlot\n",
    "import datetime as dt\n",
    "import dump_data as dmap\n",
    "from calendar import monthrange"
   ]
  },
  {
   "cell_type": "code",
   "execution_count": null,
   "metadata": {},
   "outputs": [
    {
     "name": "stdout",
     "output_type": "stream",
     "text": [
      " Creating file tmp/20160101_20160131.csv!\n"
     ]
    },
    {
     "name": "stderr",
     "output_type": "stream",
     "text": [
      "/home/shibaji/anaconda3/lib/python3.7/site-packages/numpy/lib/nanfunctions.py:1116: RuntimeWarning: All-NaN slice encountered\n",
      "  overwrite_input=overwrite_input)\n",
      "src/get_data.py:451: SettingWithCopyWarning: \n",
      "A value is trying to be set on a copy of a slice from a DataFrame\n",
      "\n",
      "See the caveats in the documentation: https://pandas.pydata.org/pandas-docs/stable/user_guide/indexing.html#returning-a-view-versus-a-copy\n",
      "  f[\"epoch\"] = dates[0]\n"
     ]
    },
    {
     "name": "stdout",
     "output_type": "stream",
     "text": [
      "tmp/EMFISIS/omni/201601.asc -to- tmp/EMFISIS/omni/201601.csv\n",
      " Creating file tmp/20160201_20160229.csv!\n",
      "tmp/EMFISIS/omni/201602.asc -to- tmp/EMFISIS/omni/201602.csv\n",
      " Creating file tmp/20160301_20160331.csv!\n",
      "tmp/EMFISIS/omni/201603.asc -to- tmp/EMFISIS/omni/201603.csv\n",
      " Creating file tmp/20160401_20160430.csv!\n"
     ]
    }
   ],
   "source": [
    "# Parse data and store to csv format\n",
    "years = [2016,2017,2018]\n",
    "months = range(1,13)\n",
    "for y in years:\n",
    "    for m in months:\n",
    "        days = monthrange(y, m)[1]\n",
    "        dates = [dt.datetime(y,m,1)+dt.timedelta(i) for i in range(days)]\n",
    "        fname = \"tmp/%s_%s.csv\"%(dates[0].strftime(\"%Y%m%d\"), dates[-1].strftime(\"%Y%m%d\"))\n",
    "        if not os.path.exists(fname):\n",
    "            print(f\" Creating file {fname}!\")\n",
    "            try:\n",
    "                gd.download_dataset(dates)\n",
    "                dl = gd.DataLoader(dates)\n",
    "                dl.parsed_min_segmented_data()\n",
    "            except: pass\n",
    "            os.system(\"rm -rf tmp/EMFISIS/*\")\n",
    "        else: print(f\" File {fname} exists!\")\n",
    "#o = dl._filter_(sc=\"A\")\n",
    "#rti = RangeTimePlot(dates, 2)\n",
    "#rti.addParamPlot(o.epoch, o.L, o[\"B(pT)\"], xlabel=\"\", title=\"RBSP: A\")\n",
    "#o = dl._filter_(sc=\"B\")\n",
    "#rti.addParamPlot(o.epoch, o.L, o[\"B(pT)\"], title=\"RBSP: B\")"
   ]
  }
 ],
 "metadata": {
  "kernelspec": {
   "display_name": "bnn",
   "language": "python",
   "name": "bnn"
  },
  "language_info": {
   "codemirror_mode": {
    "name": "ipython",
    "version": 3
   },
   "file_extension": ".py",
   "mimetype": "text/x-python",
   "name": "python",
   "nbconvert_exporter": "python",
   "pygments_lexer": "ipython3",
   "version": "3.7.6"
  }
 },
 "nbformat": 4,
 "nbformat_minor": 4
}
