{
 "cells": [
  {
   "cell_type": "markdown",
   "metadata": {},
   "source": [
    "># A Bayesian framework to estimate Chorus waves (Chorus wave global maps) in from low-Earth-orbit, Van Allen Probe and other datasets\n",
    "\n",
    ">- Feb, 2021. S. Chakraborty, G. S. Cunninghum\n",
    "\n",
    ">Email to <shibaji7@vt.edu> if you have any questions or comments!\n",
    "\n",
    ">> ### Simplified Parametric Model\n",
    "Figures presented in [Feb01 Report](https://github.com/shibaji7/Bayesian_Framework_CRRES/blob/main/reports/AnalysisReport.Feb01.pdf) we can approximte $\\mathcal{F}(B_w^2|MLT,L*)$ as a *Gamma* distribution. Note that gamma has a support of $(0,\\infty)$. The *Gamma* distribution in shape-rate format has following form:\n",
    "$$Gamma(\\alpha,\\beta)=\\frac{\\beta^{\\alpha}}{\\Gamma(\\alpha)}x^{\\alpha-1}e^{-x\\beta}; x,\\alpha,\\beta>0$$\n",
    "Under this assumptions we can write the models as follows:\n",
    "\n",
    ">>* 1-Layer Heigherarchical Model:\n",
    "$$\\mathcal{F}(B_w^2|MLT_{i},L^*_{j})\\sim Gamma(\\alpha_{ij},\\beta_{ij})$$\n",
    "$$\\alpha_{ij},\\beta_{ij}=\\mathcal{K}_0(MLT_{i},L^*_{j}); \\text{where }\\mathcal{K}_0\\text{ is a function with functional form:} \\mathcal{K}_0(x,y)=LogLink(\\sum_{m\\geq 0}\\sum_{n\\geq 0}\\mathcal{C}_{0_{mn}}x^my^n)$$\n",
    "\n",
    ">>* 2-Layer Heigherarchical Model:\n",
    "\n",
    ">>$$\\mathcal{F}(B_w^2|MLT_{i},L^*_{j})\\sim Gamma(\\alpha_{ij},\\beta_{ij})$$\n",
    ">>$$\\alpha_{ij},\\beta_{ij}=\\mathcal{K}_0(MLT_{i},L^*_{j}); \\text{where }\\mathcal{K}_0\\text{ is a function with functional form:} \\mathcal{K}_0(x,y)=LogLink(\\sum_{m\\geq 0}\\sum_{n\\geq 0}\\mathcal{C}_{0_{mn}}x^my^n)$$\n",
    ">>$$\\lbrace\\mathcal{C}_{0_{mn}}\\rbrace\\sim\\mathcal{G}(\\alpha_0,\\beta_0,\\gamma_0);\\text{where }\\lbrace\\mathcal{C}_{0_{mn}}\\rbrace\\text{ is the coefficient matrix for the function }\\mathcal{K}_0$$\n",
    "\n",
    ">>Note that, $\\alpha_{ij},\\beta_{ij}\\in (0,\\infty)$, thus, $\\mathcal{K}_0$ can not be a linear regression, rather it should be a generalized regression with a *log* link function."
   ]
  },
  {
   "cell_type": "markdown",
   "metadata": {},
   "source": [
    "> ## 1-Layer Heigherarchical Model\n",
    "$$\\mathcal{F}(B_w^2|MLT_{i},L^*_{j})\\sim Gamma(\\alpha_{ij},\\beta_{ij})$$\n",
    "$$\\alpha_{ij},\\beta_{ij}=\\mathcal{K}_0(MLT_{i},L^*_{j}); \\text{where }\\mathcal{K}_0\\text{ is a function with functional form:} \\mathcal{K}_0(x,y)=LogLink(\\sum_{m\\geq 0}\\sum_{n\\geq 0}\\mathcal{C}_{0_{mn}}x^my^n)$$\n",
    "* Bayesian Inferece for IID ([identical-independently distrbuted](https://en.wikipedia.org/wiki/Independent_and_identically_distributed_random_variables)) Gamma Distributed Data\n",
    "\n",
    ">>Let $X\\sim Gamma(\\alpha,\\beta)$, IID dataset, then\n",
    "$$\\mathcal{F}_X(x|\\alpha,\\beta)= \\frac{\\beta^\\alpha}{\\Gamma(\\alpha)}x^{\\alpha-1}e^{-x\\beta}; \\text{ where } x, \\alpha,\\beta>0$$\n",
    "Suppose, for a given $\\text{i}^{\\text{th}}$ MLT and $\\text{j}^{\\text{th}}$ L* bin $B_{w_{ij}}^2=\\mathcal{U}$ and $\\mathcal{U}=(u_1,u_2,\\dots,u_k,\\dots,u_n)$ are $n$ IID data points per (ij) bin such that $u_k\\sim Gamma(\\alpha,\\beta)$. \n",
    "We wish to estimate the parameters of the Gamma distribution $\\alpha,\\beta$ within a Bayesian framework.\n",
    "\n",
    ">> ## Priors\n",
    "Since we are operating within a Bayesian framework we need to assign prior distributions to the parameters of interest $\\alpha$ and $\\beta$. Both parameters are positive so a natural to distribution to represent our prior beliefs them is a Gamma distribution. We will also assume that a priori (ie before we see the data) that the parameters are independent. Hence:\n",
    "$$\\alpha\\sim Gamma(\\lambda_\\alpha,\\nu_\\alpha)$$\n",
    "$$\\beta\\sim Gamma(\\lambda_\\beta,\\nu_\\beta)$$\n",
    "The corresponding pdfs are:\n",
    "$$\\pi(\\alpha)=\\frac{\\nu^{\\lambda_\\alpha}_\\alpha}{\\Gamma(\\lambda_\\alpha)}\\alpha^{\\lambda_\\alpha-1}e^{-\\alpha\\nu_\\alpha}\\propto \\alpha^{\\lambda_\\alpha-1}e^{-\\alpha\\nu_\\alpha}$$\n",
    "$$\\pi(\\beta)=\\frac{\\nu^{\\lambda_\\beta}_\\beta}{\\Gamma(\\lambda_\\beta)}\\beta^{\\lambda_\\beta-1}e^{-\\beta\\nu_\\beta}\\propto \\beta^{\\lambda_\\beta-1}e^{-\\beta\\nu_\\beta}$$\n",
    "\n",
    ">> ## Likelihood function\n",
    "The likelihood function, denoted by $\\mathcal{L}(\\alpha,\\beta|\\mathcal{U})$ is a product of the densities $\\mathcal{F}(u_k|\\alpha,\\beta)$ since we have IID data is:\n",
    "$$\\mathcal{L}(\\alpha,\\beta|\\mathcal{U})=\\prod_{k=1}^n\\mathcal{F}(u_k|\\alpha,\\beta)=\\prod_{k=1}^n\\frac{\\beta^\\alpha}{\\Gamma(\\alpha)}u_k^{\\alpha-1}e^{-u_k\\beta}$$\n",
    "$$\\rightarrow\\mathcal{L}(\\alpha,\\beta|\\mathcal{U})=\\frac{\\beta^{n\\alpha}}{\\Gamma(\\alpha)^n}e^\\left({-\\beta\\sum_{k=1}^nu_k}\\right)\\prod_{k=1}^nu_k^{\\alpha-1}$$\n",
    "\n",
    ">> ## Posterior Distribution\n",
    "The density of the posterior distribution is up to proportionality the product of the likelihood functions times the prior densities:\n",
    "$$\\pi(\\alpha,\\beta|\\mathcal{U})\\propto \\mathcal{L}(\\alpha,\\beta|\\mathcal{U})\\pi(\\alpha)\\pi(\\beta)$$\n",
    "Using the expression above we derive (up to proportionality) the density of the joint posterior distribution of the parameters given the data:\n",
    "$$\\pi(\\alpha,\\beta|\\mathcal{U})\\propto \\frac{\\beta^{n\\alpha}}{\\Gamma(\\alpha)^n}e^\\left({-\\beta\\sum_{k=1}^nu_k}\\right)\\prod_{k=1}^nu_k^{\\alpha-1}\\times \\alpha^{\\lambda_\\alpha-1}e^{-\\alpha\\nu_\\alpha}\\times \\beta^{\\lambda_\\beta-1}e^{-\\beta\\nu_\\beta}$$\n",
    "\n",
    ">> ## MCMC & Gibbs Sampler\n",
    "We would like to draw samples from this distribution using MCMC and Gibbs sampler. The first thing we need to do, is to write down the full conditional distribution of the parameters ($\\alpha, \\beta$).\n",
    ">>> ### Full Conditionals\n",
    "To derive the full conditional density of the distribution of one of the parameters, say, $\\alpha$, we just look at the joint posterior density and put together the terms that only involve $\\alpha$. Everything else is treated as a constant:\n",
    "$$\\pi(\\alpha|\\mathcal{U},\\beta)\\propto \\frac{\\beta^{n\\alpha}}{\\Gamma(\\alpha)^n}\\alpha^{\\nu_\\alpha-1}e^{-\\alpha\\nu_\\alpha}\\left(\\prod_{k=1}^nu_k^{\\alpha-1}\\right)$$\n",
    "Similarly, the density of full conditional posterior distribution of $\\beta$ given everything else is given as:\n",
    "$$\\pi(\\beta|\\mathcal{U},\\beta)\\propto \\beta^{n\\alpha}e^{-\\beta\\sum_{k=1}^nu_k}\\beta^{\\lambda_\\beta-1}e^{-\\beta\\nu_\\beta}=\\beta^{n\\alpha+\\lambda_\\beta-1}e^{-\\beta\\left(\\nu_\\beta+\\sum_{k=1}^nu_k\\right)}$$\n",
    "This is a kernel of Gamma with parameters $n\\alpha+\\lambda_\\beta\\text{ and } \\nu_\\beta+\\sum_{k=1}^nu_k$.\n",
    "$$\\beta|\\mathcal{U},\\alpha\\sim Gamma\\left(n\\alpha+\\lambda_\\beta,\\nu_\\beta+\\sum_{k=1}^nu_k\\right)$$\n",
    "\n",
    "\n",
    ">> A pseudo-code for Gibbs sampler:\n",
    "1. Initialze\n",
    "2. Gibbs MCMC sample from $\\pi(\\alpha|\\mathcal{U},\\beta)$\n",
    "3. Gibbs sample from $\\pi(\\beta|\\mathcal{U},\\alpha)$\n",
    "4. Repeat step (2)\n",
    "\n",
    ">> Note that Step(2) need an MCMC sampler and we have to estimate the postrior *log-probability* or *log-likelihood*."
   ]
  }
 ],
 "metadata": {
  "kernelspec": {
   "display_name": "Python 3",
   "language": "python",
   "name": "python3"
  },
  "language_info": {
   "codemirror_mode": {
    "name": "ipython",
    "version": 3
   },
   "file_extension": ".py",
   "mimetype": "text/x-python",
   "name": "python",
   "nbconvert_exporter": "python",
   "pygments_lexer": "ipython3",
   "version": "3.7.7"
  }
 },
 "nbformat": 4,
 "nbformat_minor": 4
}
